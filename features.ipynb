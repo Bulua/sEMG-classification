{
 "cells": [
  {
   "cell_type": "code",
   "execution_count": 1,
   "metadata": {
    "tags": []
   },
   "outputs": [],
   "source": [
    "import sys\n",
    "import torch\n",
    "import torchvision\n",
    "import random\n",
    "\n",
    "import torch\n",
    "import numpy as np\n",
    "import torch.nn as nn\n",
    "import matplotlib.pyplot as plt\n",
    "\n",
    "from itertools import permutations, product\n",
    "from tqdm import tqdm\n",
    "from sklearn import preprocessing\n",
    "from torch.utils.data import Dataset, DataLoader\n",
    "# from models.models import FeatureSelectNet\n",
    "\n",
    "from sklearn.cluster import KMeans, DBSCAN\n",
    "from sklearn.neighbors import KNeighborsClassifier\n",
    "from sklearn.metrics import accuracy_score\n",
    "from sklearn.model_selection import train_test_split"
   ]
  },
  {
   "cell_type": "code",
   "execution_count": 4,
   "metadata": {},
   "outputs": [
    {
     "data": {
      "text/plain": [
       "torch.Size([32, 25, 25])"
      ]
     },
     "execution_count": 4,
     "metadata": {},
     "output_type": "execute_result"
    }
   ],
   "source": [
    "input = torch.rand((32, 1, 25))\n",
    "em = nn.Conv1d(in_channels=1, out_channels=25, kernel_size=3, padding='same')\n",
    "em(input).shape"
   ]
  },
  {
   "cell_type": "code",
   "execution_count": 38,
   "metadata": {},
   "outputs": [
    {
     "data": {
      "text/plain": [
       "[['WL', 'SSC', 'MAV'], ['WL', 'SSC', 'WMAV'], ['WL', 'SSC', 'RMS']]"
      ]
     },
     "execution_count": 38,
     "metadata": {},
     "output_type": "execute_result"
    }
   ],
   "source": [
    "selected = ['WL', 'SSC']\n",
    "ready_features = ['MAV', 'WMAV', 'RMS']\n",
    "from copy import deepcopy\n",
    "selected_f = []\n",
    "for f in ready_features:\n",
    "    fs = deepcopy(selected)\n",
    "    fs.append(f)\n",
    "    selected_f.append(fs)\n",
    "selected_f"
   ]
  },
  {
   "cell_type": "code",
   "execution_count": 28,
   "metadata": {},
   "outputs": [
    {
     "data": {
      "image/png": "[encoded data removed]",
      "text/plain": [
       "<Figure size 640x480 with 1 Axes>"
      ]
     },
     "metadata": {},
     "output_type": "display_data"
    }
   ],
   "source": [
    "x = ['MAV', 'WMAV', 'SSC', 'WL', 'RMS','STD', 'SSI', 'VAR', 'AAC', 'MEAN']\n",
    "y = range(10)\n",
    "\n",
    "plt.bar(x, y)\n",
    "for i, j in enumerate(y):\n",
    "    plt.text(i, j+0.1, s=j)\n",
    "plt.xlabel('feature')\n",
    "plt.ylabel('acc(%)')\n",
    "plt.ylim(0, 10)\n",
    "plt.show()\n",
    "# plt.savefig('1.jpg')"
   ]
  },
  {
   "cell_type": "markdown",
   "metadata": {},
   "source": [
    "## 1、DataLoader"
   ]
  },
  {
   "cell_type": "code",
   "execution_count": 2,
   "metadata": {
    "tags": []
   },
   "outputs": [],
   "source": [
    "feature_images = np.load('./runs/data/user1/feature_images.npy')\n",
    "feature_image_labels = np.load('./runs/data/user1/feature_image_labels.npy')"
   ]
  },
  {
   "cell_type": "code",
   "execution_count": 4,
   "metadata": {
    "tags": []
   },
   "outputs": [
    {
     "data": {
      "text/plain": [
       "((2981, 10, 8), (2981,), array([0., 0., 0., ..., 7., 7., 7.]))"
      ]
     },
     "execution_count": 4,
     "metadata": {},
     "output_type": "execute_result"
    }
   ],
   "source": [
    "feature_images.shape, feature_image_labels.shape, feature_image_labels"
   ]
  },
  {
   "cell_type": "code",
   "execution_count": 12,
   "metadata": {
    "tags": []
   },
   "outputs": [
    {
     "name": "stdout",
     "output_type": "stream",
     "text": [
      "MAV: 0.919732441471572\n",
      "WMAV: 0.919732441471572\n",
      "SSC: 0.13377926421404682\n",
      "WL: 0.7090301003344481\n",
      "RMS: 0.903010033444816\n",
      "STD: 0.862876254180602\n",
      "SSI: 0.903010033444816\n",
      "VAR: 0.8662207357859532\n",
      "AAC: 0.1939799331103679\n",
      "MEAN: 0.919732441471572\n"
     ]
    }
   ],
   "source": [
    "all_features = np.array(['MAV', 'WMAV', 'SSC', 'WL', 'RMS','STD', 'SSI', 'VAR', 'AAC', 'MEAN'])\n",
    "for i, f in enumerate(all_features):\n",
    "    data = feature_images[:, i, 5:]\n",
    "    data = np.reshape(data, (data.shape[0], -1))\n",
    "    label = feature_image_labels\n",
    "\n",
    "    X_train, X_test, y_train, y_test = train_test_split(data, label, test_size=0.1, random_state=20)\n",
    "    # print(X_train.shape, X_test.shape, y_train.shape, y_test.shape)\n",
    "    knn = KNeighborsClassifier(n_neighbors=8)\n",
    "    knn.fit(X_train, y_train)\n",
    "    \n",
    "    y_pred = knn.predict(X_test)\n",
    "    print(f'{all_features[i]}: {accuracy_score(y_pred, y_test)}')"
   ]
  },
  {
   "cell_type": "markdown",
   "metadata": {},
   "source": [
    "### 1.1 sEMG特征图"
   ]
  },
  {
   "cell_type": "code",
   "execution_count": 8,
   "metadata": {},
   "outputs": [
    {
     "data": {
      "text/plain": [
       "(array([0, 1, 2, 3, 4]),)"
      ]
     },
     "execution_count": 8,
     "metadata": {},
     "output_type": "execute_result"
    }
   ],
   "source": [
    "all_features = np.array(['MAV', 'WMAV', 'SSC', 'WL', 'RMS','STD', 'SSI', 'VAR', 'AAC', 'MEAN'])\n",
    "selected_features = np.array(['MAV', 'WMAV', 'SSC', 'WL', 'RMS'])\n",
    "features_idx = np.where(np.isin(all_features, selected_features))\n",
    "features_idx"
   ]
  },
  {
   "cell_type": "code",
   "execution_count": 9,
   "metadata": {},
   "outputs": [
    {
     "data": {
      "text/plain": [
       "(2981, 25)"
      ]
     },
     "execution_count": 9,
     "metadata": {},
     "output_type": "execute_result"
    }
   ],
   "source": [
    "# (2981, 1, 3, 5)\n",
    "semg_features = feature_images[:, features_idx, :5] \n",
    "# (2981, 15)\n",
    "semg_features = np.reshape(semg_features, (semg_features.shape[0], -1))\n",
    "# 标准化\n",
    "semg_features = preprocessing.StandardScaler().fit_transform(semg_features)\n",
    "semg_features.shape"
   ]
  },
  {
   "cell_type": "code",
   "execution_count": 10,
   "metadata": {},
   "outputs": [
    {
     "data": {
      "text/plain": [
       "0.4964063248682319"
      ]
     },
     "execution_count": 10,
     "metadata": {},
     "output_type": "execute_result"
    }
   ],
   "source": [
    "X_train, X_test, y_train, y_test = train_test_split(semg_features, feature_image_labels, test_size=0.7, random_state=42)\n",
    "\n",
    "knn = KNeighborsClassifier(n_neighbors=8, weights='uniform', algorithm='auto', metric='minkowski')\n",
    "knn.fit(X_train, y_train)\n",
    "y_pred = knn.predict(X_test)\n",
    "accuracy_score(y_pred, y_test)"
   ]
  },
  {
   "cell_type": "code",
   "execution_count": null,
   "metadata": {},
   "outputs": [],
   "source": [
    "MAV: 0.39, WMAV: 0.39, SSC: 0.38, "
   ]
  },
  {
   "cell_type": "markdown",
   "metadata": {},
   "source": [
    "### 1.2 acc特征图"
   ]
  },
  {
   "cell_type": "markdown",
   "metadata": {},
   "source": []
  }
 ],
 "metadata": {
  "interpreter": {
   "hash": "68e9a8b016a7462f0236497e7456f42b6b0caa64e8318a39e709ff694e28d192"
  },
  "kernelspec": {
   "display_name": "Python 3 (ipykernel)",
   "language": "python",
   "name": "python3"
  },
  "language_info": {
   "codemirror_mode": {
    "name": "ipython",
    "version": 3
   },
   "file_extension": ".py",
   "mimetype": "text/x-python",
   "name": "python",
   "nbconvert_exporter": "python",
   "pygments_lexer": "ipython3",
   "version": "3.8.17"
  }
 },
 "nbformat": 4,
 "nbformat_minor": 4
}
